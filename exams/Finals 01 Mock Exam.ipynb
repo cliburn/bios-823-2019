{
 "cells": [
  {
   "cell_type": "code",
   "execution_count": null,
   "metadata": {},
   "outputs": [],
   "source": [
    "import warnings\n",
    "warnings.filterwarnings(\n",
    "    action=\"ignore\",\n",
    "    module=\"scipy\",\n",
    "    message=\"^.*LAPACK bug 0038.*\")"
   ]
  },
  {
   "cell_type": "markdown",
   "metadata": {},
   "source": [
    "**1**. (25 points)\n",
    "\n",
    "We can fit a polynomial equation to data using least squares via the so-called normal equations\n",
    "\n",
    "$$\n",
    "\\beta = (X^TX)^{-1}X^Ty\n",
    "$$\n",
    "\n",
    "where $X$ is a matrix of coefficients, $y$ is the observed data and $\\beta$ is a vector representation of the coefficients of the polynomial model\n",
    "\n",
    "$$\n",
    "y_i = \\beta_0 + \\beta_1 x_i + \\beta_2 x_i^2 + \\cdots + \\beta_k x_i^k\n",
    "$$\n",
    "\n",
    "We show a simple example of this in matrix form \n",
    "\n",
    "$$\n",
    "\\pmatrix{y_1\\\\y_2\\\\y_3} = \\pmatrix{1 & x_1 & x_1^2\\\\1 & x_2 & x_2^2\\\\1 & x_3 & x_3^2}\\pmatrix{\\beta_0\\\\ \\beta_1 \\\\ \\beta_2}\n",
    "$$\n",
    "\n",
    "- Use the normal equations to estimate coefficients for a cubic polynomial fit to the data in `fe01.csv` (15 points)\n",
    "- Plot an overlay of the fitted line on the data (10 points)\n",
    "\n",
    "Hint:\n",
    "\n",
    "- To solve a linear system $x = A^{-1}b$, we can use `np.linalg.solve(A, b)`"
   ]
  },
  {
   "cell_type": "code",
   "execution_count": null,
   "metadata": {},
   "outputs": [],
   "source": [
    "\n",
    "\n",
    "\n"
   ]
  },
  {
   "cell_type": "markdown",
   "metadata": {},
   "source": [
    "**2**. (25 points)\n",
    "\n",
    "- Download the data from the URL given into a `pandas` DataFrame (5 points)\n",
    "```\n",
    "https://gist.github.com/seankross/a412dfbd88b3db70b74b/raw/5f23f993cd87c283ce766e7ac6b329ee7cc2e1d1/mtcars.csv\n",
    "```\n",
    "- Your objective is to predict the `mpg` of a car from `hp`, `wt` and `am`\n",
    "    - Use the last 10 rows as test data and the rest as training data (5 points)\n",
    "    - Train a multiple linear regression model on the training data (10 points)\n",
    "    - Evaluate the mean squared error on the test data (5 points)\n",
    "    \n",
    "You may **only** use the following class from `sklearn`  (default parameters are fine)\n",
    "\n",
    "- `sklearn.linear_model.LinearRegression`\n",
    "\n",
    "In particular, splitting into test and train data and calculaiton of mean squared error should not use `sklearn`"
   ]
  },
  {
   "cell_type": "code",
   "execution_count": null,
   "metadata": {},
   "outputs": [],
   "source": [
    "\n",
    "\n",
    "\n"
   ]
  },
  {
   "cell_type": "markdown",
   "metadata": {},
   "source": [
    "**3**. (25 points)\n",
    "\n",
    "![img](fe02.png)\n",
    "\n",
    "Find a Python representation of the graph shown above as\n",
    "\n",
    "- an edge list (5 points)\n",
    "- find a minimum spanning tree (MST) by **inspection**  and express it as an **unweighted** adjacency list (10 points)\n",
    "- encode the MST as a graph in networkx and show the order of edges visited by a breadth-first search starting from node `f` (10 points)\n"
   ]
  },
  {
   "cell_type": "code",
   "execution_count": null,
   "metadata": {},
   "outputs": [],
   "source": [
    "\n",
    "\n",
    "\n"
   ]
  },
  {
   "cell_type": "markdown",
   "metadata": {},
   "source": [
    "**4** (25 points)\n",
    "\n",
    "Repeat exercise 2 using Spark `ml`.\n",
    "\n",
    "The necessary Spark classes are imported for you."
   ]
  },
  {
   "cell_type": "code",
   "execution_count": null,
   "metadata": {},
   "outputs": [],
   "source": [
    "from pyspark.sql import SparkSession\n",
    "from pyspark.ml.feature import VectorAssembler\n",
    "from pyspark.ml.pipeline import Pipeline\n",
    "from pyspark.ml.regression import LinearRegression\n",
    "from pyspark.sql.functions import pow, mean"
   ]
  },
  {
   "cell_type": "code",
   "execution_count": null,
   "metadata": {},
   "outputs": [],
   "source": [
    "spark = SparkSession.builder.getOrCreate()"
   ]
  },
  {
   "cell_type": "code",
   "execution_count": null,
   "metadata": {},
   "outputs": [],
   "source": [
    "\n",
    "\n",
    "\n"
   ]
  }
 ],
 "metadata": {
  "kernelspec": {
   "display_name": "Python 3",
   "language": "python",
   "name": "python3"
  },
  "language_info": {
   "codemirror_mode": {
    "name": "ipython",
    "version": 3
   },
   "file_extension": ".py",
   "mimetype": "text/x-python",
   "name": "python",
   "nbconvert_exporter": "python",
   "pygments_lexer": "ipython3",
   "version": "3.6.5"
  }
 },
 "nbformat": 4,
 "nbformat_minor": 2
}
