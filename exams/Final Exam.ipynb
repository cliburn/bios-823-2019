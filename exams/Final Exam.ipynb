{
 "cells": [
  {
   "cell_type": "markdown",
   "metadata": {},
   "source": [
    "**Instructions**\n",
    "\n",
    "This is a CLOSED book exam for the 2 hours and 30 minutes, and you can only access built-in help (via `help(foo)`). In the FINAL 30 minutes, you will be allowed to refer to notebooks (including homework and midterm exams)  in the BIOS-823-2019 repository ONLY. No other web access is allowed. This is not enough time to search for a solution, but enough so that you are not penalized because you forgot a very specific piece of information.\n",
    "\n",
    "Once you are in the final 30 mintes, you are free to access the course notebooks, but NOT before that. I will let you know when the time is if you are taking thiis test in class.\n",
    "\n",
    "You may use any Python standard library module and the 3rd party modules that are imported for you\n",
    "Do not use any 3rd party module that has not been imported for you\n",
    "\n",
    "**Note: By taking this exam, you agree to abide by the Duke Honor Code.**"
   ]
  },
  {
   "cell_type": "markdown",
   "metadata": {},
   "source": [
    "**1**. (20 points) Functional programming, string processing and basic numeric literacy\n",
    "\n",
    "- Load the standard numpy binary file `nucelotides.npy` into a `numpy` array `xs`. State the number of rows `m` and number of columns `n`. Convert to a list of `m` strings of length `n` each by combining individual nucleotide letters \n",
    "- Find the 10 most common overlapping sequence of length 3 among the `m` strings using shifting windows\n",
    "- Find the longest consecutive sequence of a single nucleotide, and report the string (row number) and (start, end) positions within that string"
   ]
  },
  {
   "cell_type": "code",
   "execution_count": null,
   "metadata": {},
   "outputs": [],
   "source": [
    "\n",
    "\n"
   ]
  },
  {
   "cell_type": "markdown",
   "metadata": {},
   "source": [
    "**2**. (20 points) Data manipulation and basic plotting\n",
    "\n",
    "- Read `TB_burden_age_sex_2019-11-21.csv` into a Pandas DataFrame. Find the sum of TB incidence for a **maximal non-overlapping partition** of age groups using only rows where the value is in (`m`, `f`) across all countries in Europe (EUR). Show the results sorted by age group in ascending order, keeping only `age_group`, `best`, `lo` and `hi` (20 points)\n",
    "- Make a bar chart of the table showing with `best` as the height and `lo`, `hi` as error bars for each age group using `matplotlib` (5 points)\n",
    "    - The region a country belongs to can be inferred from the file `TB_notifications_2019-11-21.csv` in the column `g_whoregion`\n",
    "    - By **maximal non-overlapping partition**, I mean there should be as many age-groups as possible but none of the age-groups should overlap\n",
    "\n",
    "The final figure should look similar to this\n",
    "![img](tb.png)"
   ]
  },
  {
   "cell_type": "code",
   "execution_count": null,
   "metadata": {},
   "outputs": [],
   "source": [
    "\n",
    "\n",
    "\n"
   ]
  },
  {
   "cell_type": "markdown",
   "metadata": {},
   "source": [
    "**3**. (20 points) Graphs\n",
    "\n",
    "We have a data set consisting of people who want to travel from country A to country B, and we know the distances from country A and B.  The data set is `'travel.csv'`.\n",
    "\n",
    "- Find the largest set of countries where travelers could pass a message to each other either directly or via a chain of other travelers, assuming that travelers can freely go from `src` to `dst` in either direction (15 points)\n",
    "- Show the shortest distance between each country in this set as a DataFrame with countries sorted alphabetically (10 points)"
   ]
  },
  {
   "cell_type": "code",
   "execution_count": null,
   "metadata": {},
   "outputs": [],
   "source": [
    "\n",
    "\n"
   ]
  },
  {
   "cell_type": "markdown",
   "metadata": {},
   "source": [
    "**4**. (20 points)\n",
    "\n",
    "Geographical coordinates are given as a (latitude, longitude) pair $(\\phi, \\lambda)$, and hence the difference in latitude and longitude are\n",
    "\n",
    "$$\n",
    "\\Delta \\phi = \\phi_2 - \\phi_1 \\\\\n",
    "\\Delta \\lambda = \\lambda_2 - \\lambda_1\n",
    "$$\n",
    "\n",
    "For the problem, latitude and longitude are given in degrees. You need to convert to radians by multiplying with the factor $\\pi/180$ or use the `radians` function in numpy. Once you have converted to radians, you can calculate an approximate distance using the formula\n",
    "\n",
    "$$\n",
    "a = \\sin^2 (\\Delta \\phi/2) + \\cos \\phi_1 \\cos \\phi_2 \\sin^2 (\\Delta \\lambda) \\\\\n",
    "d = 2 \\arcsin(\\sqrt{a})\n",
    "$$\n",
    "\n",
    "where $%R = 6371$ is the Earth's radius in km.\n",
    "\n",
    "- Using this formula and the lookup information provided in `worldcities.csv`, calculate the distance from Durham, North Carolina to every other city in the United States (not including itself). Show rows for the 5 cities in the DataFrame closest to Durham."
   ]
  },
  {
   "cell_type": "code",
   "execution_count": null,
   "metadata": {},
   "outputs": [],
   "source": [
    "\n",
    "\n",
    "\n"
   ]
  },
  {
   "cell_type": "markdown",
   "metadata": {},
   "source": [
    "**5**. (20 points)\n",
    "\n",
    "Create a Spark DataFrame from the `worldcities.csv` via a pandas DataFrame. Find the city in each country with the highest population. Show a table with 3 columns (country, city, population) for the first 5 rows sorted by country name.\n",
    "\n",
    "- Register the Spark DataFrame as a Spark SQL table. Then find the solution using an SQL query\n",
    "\n",
    "Hints:\n",
    "\n",
    "- You should remove any row with NaN in the population columns\n",
    "- I suggest using a common table expression to create two tables, then joining them to get the required information"
   ]
  },
  {
   "cell_type": "code",
   "execution_count": 311,
   "metadata": {},
   "outputs": [],
   "source": [
    "\n",
    "\n",
    "\n"
   ]
  }
 ],
 "metadata": {
  "kernelspec": {
   "display_name": "Python 3",
   "language": "python",
   "name": "python3"
  },
  "language_info": {
   "codemirror_mode": {
    "name": "ipython",
    "version": 3
   },
   "file_extension": ".py",
   "mimetype": "text/x-python",
   "name": "python",
   "nbconvert_exporter": "python",
   "pygments_lexer": "ipython3",
   "version": "3.6.5"
  }
 },
 "nbformat": 4,
 "nbformat_minor": 2
}
